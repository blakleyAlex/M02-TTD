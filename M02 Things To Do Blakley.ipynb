{
 "cells": [
  {
   "cell_type": "code",
   "execution_count": null,
   "id": "5f2a1c56",
   "metadata": {},
   "outputs": [],
   "source": [
    "# Things To Do\n",
    "# 4.1\n",
    "\n",
    "secret = 7\n",
    "guess = 2\n",
    "\n",
    "if guess < secret:\n",
    "    print(\"Too low\")\n",
    "elif: guess > secret:\n",
    "        print(\"Too high\")\n",
    "else:\n",
    "    print(\"Just right\")\n"
   ]
  },
  {
   "cell_type": "code",
   "execution_count": null,
   "id": "3e401772",
   "metadata": {},
   "outputs": [],
   "source": [
    "# 4.2\n",
    "\n",
    "small = True\n",
    "green = True\n",
    "\n",
    "if small:\n",
    "    if green:\n",
    "        print(\"Pea\")\n",
    "    else:\n",
    "        print(\"Cherry\")\n",
    "else:\n",
    "    if green:\n",
    "        print(\"Watermelon\")\n",
    "    else:\n",
    "        print(\"Pumpkin\")\n",
    "        "
   ]
  },
  {
   "cell_type": "code",
   "execution_count": 1,
   "id": "bf42bfe2",
   "metadata": {},
   "outputs": [
    {
     "name": "stdout",
     "output_type": "stream",
     "text": [
      "3\n",
      "2\n",
      "1\n",
      "0\n"
     ]
    }
   ],
   "source": [
    "# 6.1\n",
    "\n",
    "listy = [3, 2, 1, 0]\n",
    "for i in listy:\n",
    "    print(i)"
   ]
  },
  {
   "cell_type": "code",
   "execution_count": 5,
   "id": "fe23cd8a",
   "metadata": {},
   "outputs": [
    {
     "name": "stdout",
     "output_type": "stream",
     "text": [
      "Too low\n",
      "Too low\n",
      "Too low\n",
      "Too low\n",
      "Too low\n",
      "Too low\n",
      "Found it!\n"
     ]
    }
   ],
   "source": [
    "# 6.2\n",
    "\n",
    "guess_me = 7\n",
    "number = 1\n",
    "guess = 1\n",
    "\n",
    "while guess != 0:\n",
    "    if number < guess_me:\n",
    "        print(\"Too low\")\n",
    "        number += 1\n",
    "    elif number > guess_me:\n",
    "        print(\"Oops\")\n",
    "        break\n",
    "    elif number == guess_me:\n",
    "        print(\"Found it!\")\n",
    "        guess = 0"
   ]
  },
  {
   "cell_type": "code",
   "execution_count": 6,
   "id": "a52f2682",
   "metadata": {},
   "outputs": [
    {
     "name": "stdout",
     "output_type": "stream",
     "text": [
      "Too low\n",
      "Too low\n",
      "Too low\n",
      "Too low\n",
      "Too low\n",
      "Found it!\n"
     ]
    }
   ],
   "source": [
    "# 6.3\n",
    "\n",
    "guess_me = 5\n",
    "\n",
    "for number in range(10):\n",
    "    if number < guess_me:\n",
    "        print(\"Too low\")\n",
    "    elif number == guess_me:\n",
    "        print(\"Found it!\")\n",
    "        break\n",
    "    elif number > guess_me:\n",
    "        print(\"Oops\")\n",
    "        break"
   ]
  },
  {
   "cell_type": "code",
   "execution_count": null,
   "id": "5e5c4b3b",
   "metadata": {},
   "outputs": [],
   "source": []
  }
 ],
 "metadata": {
  "kernelspec": {
   "display_name": "Python 3 (ipykernel)",
   "language": "python",
   "name": "python3"
  },
  "language_info": {
   "codemirror_mode": {
    "name": "ipython",
    "version": 3
   },
   "file_extension": ".py",
   "mimetype": "text/x-python",
   "name": "python",
   "nbconvert_exporter": "python",
   "pygments_lexer": "ipython3",
   "version": "3.11.5"
  }
 },
 "nbformat": 4,
 "nbformat_minor": 5
}
